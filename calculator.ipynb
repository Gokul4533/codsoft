{
 "cells": [
  {
   "cell_type": "code",
   "execution_count": null,
   "id": "e8c9a52f-14b8-48b1-9cb4-3b5625edc353",
   "metadata": {},
   "outputs": [
    {
     "name": "stdout",
     "output_type": "stream",
     "text": [
      "Select operation:\n",
      "1. Add\n",
      "2. Subtract\n",
      "3. Multiply\n",
      "4. Divide\n"
     ]
    }
   ],
   "source": [
    "# Calculator operations\n",
    "def add(a, b):\n",
    "    return a + b  \n",
    "\n",
    "def subtract(a, b):\n",
    "   return a - b\n",
    "\n",
    "def multiply(a, b):\n",
    "   return a * b\n",
    "\n",
    "def divide(a, b):\n",
    "    if b == 0:\n",
    "        print(\"Cannot divide by 0!\")\n",
    "        return None\n",
    "    return a / b\n",
    "\n",
    "# Operation functions dict  \n",
    "operations = {\n",
    "    1: add,\n",
    "    2: subtract, \n",
    "    3: multiply,\n",
    "    4: divide \n",
    "}\n",
    "\n",
    "def calculate():\n",
    "    print(\"Select operation:\")\n",
    "    print(\"1. Add\")\n",
    "    print(\"2. Subtract\")\n",
    "    print(\"3. Multiply\")\n",
    "    print(\"4. Divide\")\n",
    "  \n",
    "    choice = input_number(\"Enter choice(1-4): \")\n",
    "\n",
    "    num1 = input_number(\"Enter first number: \")\n",
    "    num2 = input_number(\"Enter second number: \")\n",
    "\n",
    "    func = operations.get(choice)\n",
    "    if func:\n",
    "        result = func(num1, num2)\n",
    "        if result is not None:\n",
    "            print(result) \n",
    "    else:\n",
    "        print(\"Invalid operation\")\n",
    "   \n",
    "def input_number(prompt):\n",
    "    while True:\n",
    "        try:\n",
    "            return float(input(prompt))\n",
    "        except ValueError:\n",
    "            print(\"Invalid input. Please enter a number\")\n",
    "            continue\n",
    "               \n",
    "calculate()"
   ]
  },
  {
   "cell_type": "code",
   "execution_count": null,
   "id": "705f1690-1bd1-49ee-86e0-72647ed4f608",
   "metadata": {},
   "outputs": [],
   "source": []
  }
 ],
 "metadata": {
  "kernelspec": {
   "display_name": "Python 3 (ipykernel)",
   "language": "python",
   "name": "python3"
  },
  "language_info": {
   "codemirror_mode": {
    "name": "ipython",
    "version": 3
   },
   "file_extension": ".py",
   "mimetype": "text/x-python",
   "name": "python",
   "nbconvert_exporter": "python",
   "pygments_lexer": "ipython3",
   "version": "3.11.7"
  }
 },
 "nbformat": 4,
 "nbformat_minor": 5
}
