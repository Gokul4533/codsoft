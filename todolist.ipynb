{
 "cells": [
  {
   "cell_type": "code",
   "execution_count": null,
   "id": "e35bd170-b7f0-435b-a342-9aea3df05252",
   "metadata": {},
   "outputs": [],
   "source": [
    "import sys\n",
    "from PyQt5.QtWidgets import *\n",
    "from PyQt5.QtGui import *\n",
    "from PyQt5.QtCore import *\n",
    "\n",
    "class TodoApp(QWidget):    \n",
    "    def __init__(self):\n",
    "        super().__init__() \n",
    "        self.initializeUI()\n",
    "  \n",
    "    def initializeUI(self):\n",
    "        # Main widget properties\n",
    "        self.setWindowTitle('My Todo List')\n",
    "        self.setFixedSize(400, 500)\n",
    "        self.setStyleSheet(\"\"\"\n",
    "            background-color: #fff5e9;\n",
    "            font-size: 16px;\n",
    "        \"\"\")\n",
    "\n",
    "\n",
    "        self.titleLabel = QLabel('My Todo List')\n",
    "        self.titleLabel.setFont(QFont('Arial', 24, QFont.Bold))\n",
    "\n",
    "        \n",
    "        self.inputBox = QLineEdit()\n",
    "        self.inputBox.setStyleSheet('QLineEdit {background: white;}')\n",
    "        self.inputBox.setMinimumHeight(40)\n",
    "\n",
    "\n",
    "        self.addButton = QPushButton('Add')\n",
    "        self.addButton.setStyleSheet('QPushButton {background: #4CAF50; color: white;}')\n",
    "        self.addButton.clicked.connect(self.addTodo)\n",
    "\n",
    "        self.updateButton = QPushButton('Update')\n",
    "        self.updateButton.setStyleSheet('QPushButton {background: #2196f3; color: white;}')\n",
    "        self.updateButton.clicked.connect(self.updateTodo)\n",
    "\n",
    "        \n",
    "        self.todoList = QListWidget()\n",
    "        self.todoList.setStyleSheet('QListWidget {background: white;}')\n",
    "\n",
    "\n",
    "        self.mainLayout = QVBoxLayout()\n",
    "        self.mainLayout.addWidget(self.titleLabel, alignment=Qt.AlignCenter)\n",
    "        self.mainLayout.addWidget(self.inputBox)\n",
    "        self.buttonLayout = QHBoxLayout()\n",
    "        self.buttonLayout.addWidget(self.addButton)\n",
    "        self.buttonLayout.addWidget(self.updateButton)\n",
    "        self.mainLayout.addLayout(self.buttonLayout)\n",
    "        self.mainLayout.addWidget(self.todoList)\n",
    "        self.setLayout(self.mainLayout)\n",
    "\n",
    "    def addTodo(self):\n",
    "        item = QListWidgetItem(self.inputBox.text())\n",
    "        item.setCheckState(Qt.Unchecked)\n",
    "        self.todoList.addItem(item)\n",
    "        self.inputBox.clear()\n",
    "\n",
    "    def updateTodo(self):\n",
    "        currentItem = self.todoList.currentItem()\n",
    "        if currentItem:\n",
    "            itemText = self.inputBox.text()  \n",
    "            currentItem.setText(itemText)\n",
    "            self.inputBox.clear()\n",
    "\n",
    "if __name__ == \"__main__\":\n",
    "    app = QApplication(sys.argv)\n",
    "    window = TodoApp()\n",
    "    window.show() \n",
    "    app.exec()"
   ]
  },
  {
   "cell_type": "code",
   "execution_count": null,
   "id": "8da22386-4590-4e2a-bc86-97c73f24ba12",
   "metadata": {},
   "outputs": [],
   "source": []
  },
  {
   "cell_type": "code",
   "execution_count": null,
   "id": "259fb2d6-a4da-41dc-8ed0-c01c4f5e33f4",
   "metadata": {},
   "outputs": [],
   "source": []
  },
  {
   "cell_type": "code",
   "execution_count": null,
   "id": "eb1a678c-c270-451b-9c73-b78ca86d6e7a",
   "metadata": {},
   "outputs": [],
   "source": []
  },
  {
   "cell_type": "code",
   "execution_count": null,
   "id": "8e44abf2-d5bc-4079-ad4f-6f8f3c907075",
   "metadata": {},
   "outputs": [],
   "source": []
  },
  {
   "cell_type": "code",
   "execution_count": null,
   "id": "be5b50aa-dfde-4a65-a41c-6710a858ebe2",
   "metadata": {},
   "outputs": [],
   "source": []
  },
  {
   "cell_type": "code",
   "execution_count": null,
   "id": "c734366b-1fad-4b1d-ab2a-793de3247aaa",
   "metadata": {},
   "outputs": [],
   "source": []
  },
  {
   "cell_type": "code",
   "execution_count": null,
   "id": "5aed2d59-8ff2-4420-9e3f-2b3677ea537d",
   "metadata": {},
   "outputs": [],
   "source": []
  },
  {
   "cell_type": "code",
   "execution_count": null,
   "id": "e56b243a-55d7-4a2b-ac01-027a9b70cc03",
   "metadata": {},
   "outputs": [],
   "source": []
  },
  {
   "cell_type": "code",
   "execution_count": null,
   "id": "233aa867-a692-4c35-b1b3-fd706fceb783",
   "metadata": {},
   "outputs": [],
   "source": []
  }
 ],
 "metadata": {
  "kernelspec": {
   "display_name": "Python 3 (ipykernel)",
   "language": "python",
   "name": "python3"
  },
  "language_info": {
   "codemirror_mode": {
    "name": "ipython",
    "version": 3
   },
   "file_extension": ".py",
   "mimetype": "text/x-python",
   "name": "python",
   "nbconvert_exporter": "python",
   "pygments_lexer": "ipython3",
   "version": "3.11.7"
  }
 },
 "nbformat": 4,
 "nbformat_minor": 5
}
